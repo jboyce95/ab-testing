{
 "cells": [
  {
   "cell_type": "markdown",
   "id": "809104ff-3eeb-4f9c-8bc6-3c928c12bd06",
   "metadata": {},
   "source": [
    "# Machine Learning and Artificial Intelligence Research\n",
    "### A/B Testing for E-Commerce New Version of Website"
   ]
  },
  {
   "cell_type": "markdown",
   "id": "84830671-9ae7-4e89-9d0c-b49ddf45908d",
   "metadata": {},
   "source": [
    "## Table of contents\n",
    "* [Introduction](#introduction_AB)\n",
    "  * [Background / Problem](#background_problem_AB)\n",
    "* [Data](#data_AB)\n",
    "  * [Data Description](#data_description_AB)\n",
    "  * [Import the Data](#pulldata_AB)\n",
    "  * [Design A/B Experiment](#experiment_AB)\n",
    "    * [Formulate Hypothesis](#hypothesis_AB)\n",
    "    * [Choose Variables](#variables_AB)\n",
    "    * [Choose Sample Size](#sample_size_AB)\n",
    "  * [Exploration (Missing Values, Data Dispersion, Data Types)](#evaluate_AB)\n",
    "  * [Visualizations](#visual_barh_AB)\n",
    "  * [Hypothesis Testing](#hyp_testing_AB)\n",
    "* [Conclusion](#conclusion_AB)\n",
    "\n"
   ]
  },
  {
   "cell_type": "markdown",
   "id": "a48e264e-3d5f-4f9c-8212-961e1c777cec",
   "metadata": {},
   "source": [
    "## Introduction <a name=\"introduction_AB\"></a>\n",
    "\n",
    "### Background / Problem <a name=\"background_problem_AB\"></a>\n",
    "\n",
    "A/B testing is a method commonly employed in the area of E-Commerce. A/B testing can be an effective evaluator in determining if the new version was a successful contributor to improved marketing campaigns, conversion rates in marketing, web design, product development, and user experience design.\n",
    "\n",
    "A/B testing involves changing a single variable, whether it's an attention-grabbing headline, captivating image, or a more immersive element layout. In a 50/50 split, one group or audience is shown the control while the other experimental group is shown the (hopefully) improved version.\n",
    "\n",
    "In our E-Commerce problem, we're a product team looking to achieve a higher conversion rate with the new version of our website. The product manager would be satisfied with an increase in 2% (from 13% to 15%). We plan to test and confirm whether the new user environment is effective in doing this prior to going live. Enter the A/B test.\n",
    "\n",
    "* Inspirational articles and references include:\n",
    "  * https://analyticsindiamag.com/a-b-testing-on-ml-models-a-primer/#:~:text=A%2FB%20testing%20is%20a,development%2C%20and%20user%20experience%20design.\n",
    "  * https://towardsdatascience.com/ab-testing-with-python-e5964dd66143\n",
    "  * https://www.kaggle.com/datasets/zhangluyuan/ab-testing?select=ab_data.csv"
   ]
  },
  {
   "cell_type": "code",
   "execution_count": 1,
   "id": "b40a2908-0c3f-4f63-bb55-a3600171e4e2",
   "metadata": {},
   "outputs": [],
   "source": [
    "import numpy as np\n",
    "import pandas as pd\n",
    "import scipy.stats as stats\n",
    "import statsmodels.stats.api as sms\n",
    "import matplotlib as mpl\n",
    "import matplotlib.pyplot as plt\n",
    "import seaborn as sns\n",
    "from math import ceil\n",
    "\n",
    "%matplotlib inline"
   ]
  },
  {
   "cell_type": "markdown",
   "id": "0106abc8-657f-4e81-9345-d4974de5b705",
   "metadata": {},
   "source": [
    "## Data <a name=\"data_AB\"></a>"
   ]
  },
  {
   "cell_type": "markdown",
   "id": "cd9a4896-7417-46ef-a0cf-7431fd1b6620",
   "metadata": {},
   "source": [
    "### Data Description <a name=\"data_description_AB\"></a>\n",
    "The data represents results from the user conversion testing. It's derived from Kaggle (see bullet above) and the data dictionary is found below.\n",
    "* user_id - The user ID of each session\n",
    "* timestamp - Timestamp for the session\n",
    "* group - Which group the user was assigned to for that session (control vs treatment)\n",
    "* landing_page - Which design each user saw on that session (old_page vs new_page)\n",
    "* converted - Whether the session ended in a conversion or not (binary, 0=not converted, 1=converted)"
   ]
  },
  {
   "cell_type": "markdown",
   "id": "18596367-bab5-484b-b1ae-de4622ea6b84",
   "metadata": {},
   "source": [
    "### Import the Data <a name=\"pulldata_AB\"></a>"
   ]
  },
  {
   "cell_type": "code",
   "execution_count": 2,
   "id": "37688b3c-d5eb-4657-ad08-2c46b0764944",
   "metadata": {},
   "outputs": [
    {
     "data": {
      "text/html": [
       "<div>\n",
       "<style scoped>\n",
       "    .dataframe tbody tr th:only-of-type {\n",
       "        vertical-align: middle;\n",
       "    }\n",
       "\n",
       "    .dataframe tbody tr th {\n",
       "        vertical-align: top;\n",
       "    }\n",
       "\n",
       "    .dataframe thead th {\n",
       "        text-align: right;\n",
       "    }\n",
       "</style>\n",
       "<table border=\"1\" class=\"dataframe\">\n",
       "  <thead>\n",
       "    <tr style=\"text-align: right;\">\n",
       "      <th></th>\n",
       "      <th>user_id</th>\n",
       "      <th>timestamp</th>\n",
       "      <th>group</th>\n",
       "      <th>landing_page</th>\n",
       "      <th>converted</th>\n",
       "    </tr>\n",
       "  </thead>\n",
       "  <tbody>\n",
       "    <tr>\n",
       "      <th>0</th>\n",
       "      <td>851104</td>\n",
       "      <td>2017-01-21 22:11:48.556739</td>\n",
       "      <td>control</td>\n",
       "      <td>old_page</td>\n",
       "      <td>0</td>\n",
       "    </tr>\n",
       "    <tr>\n",
       "      <th>1</th>\n",
       "      <td>804228</td>\n",
       "      <td>2017-01-12 08:01:45.159739</td>\n",
       "      <td>control</td>\n",
       "      <td>old_page</td>\n",
       "      <td>0</td>\n",
       "    </tr>\n",
       "    <tr>\n",
       "      <th>2</th>\n",
       "      <td>661590</td>\n",
       "      <td>2017-01-11 16:55:06.154213</td>\n",
       "      <td>treatment</td>\n",
       "      <td>new_page</td>\n",
       "      <td>0</td>\n",
       "    </tr>\n",
       "    <tr>\n",
       "      <th>3</th>\n",
       "      <td>853541</td>\n",
       "      <td>2017-01-08 18:28:03.143765</td>\n",
       "      <td>treatment</td>\n",
       "      <td>new_page</td>\n",
       "      <td>0</td>\n",
       "    </tr>\n",
       "    <tr>\n",
       "      <th>4</th>\n",
       "      <td>864975</td>\n",
       "      <td>2017-01-21 01:52:26.210827</td>\n",
       "      <td>control</td>\n",
       "      <td>old_page</td>\n",
       "      <td>1</td>\n",
       "    </tr>\n",
       "  </tbody>\n",
       "</table>\n",
       "</div>"
      ],
      "text/plain": [
       "   user_id                   timestamp      group landing_page  converted\n",
       "0   851104  2017-01-21 22:11:48.556739    control     old_page          0\n",
       "1   804228  2017-01-12 08:01:45.159739    control     old_page          0\n",
       "2   661590  2017-01-11 16:55:06.154213  treatment     new_page          0\n",
       "3   853541  2017-01-08 18:28:03.143765  treatment     new_page          0\n",
       "4   864975  2017-01-21 01:52:26.210827    control     old_page          1"
      ]
     },
     "execution_count": 2,
     "metadata": {},
     "output_type": "execute_result"
    }
   ],
   "source": [
    "df = pd.read_csv('ab_data.csv')\n",
    "\n",
    "df.head()"
   ]
  },
  {
   "cell_type": "markdown",
   "id": "b6d5f91c-b112-4a5c-85c2-4470603ebd70",
   "metadata": {},
   "source": [
    "### Design A/B Experiment <a name=\"experiment_AB\"></a>"
   ]
  },
  {
   "cell_type": "markdown",
   "id": "adc53674-ed60-4362-ba69-e61783886a47",
   "metadata": {
    "tags": []
   },
   "source": [
    "#### Formulate Hypothesis <a name=\"hypothesis_AB\"></a>\n",
    "\n",
    "Choose a two-tailed test:\n",
    "\n",
    "Hₒ: p = pₒ\n",
    "<br/>Hₐ: p ≠ pₒ\n",
    "\n",
    "where p and pₒ stand for the conversion rate of the new and old design, respectively. We’ll also set a confidence level of 95%: α = 0.05\n",
    "\n",
    "The α value is a threshold we set. If the probability of observing a result as extreme or more (p-value) is lower than α, then we reject the Null hypothesis. Since our α = 0.05 (indicating 5% probability), our confidence (1 — α) is 95%.\n",
    "\n",
    "We want to be 95% confident that the conversion rate of the new design is statistically different from the conversion rate of our old design, before we decide to reject the Null hypothesis Hₒ.\n",
    "\n",
    "#### Choose Variables <a name=\"variables_AB\"></a>\n",
    "\n",
    "There are two groups in this analysis. We use two groups despite knowing the conversion rate in order to account for other variables, such as seasonality:\n",
    "1. control group - only sees the old design\n",
    "1. treatment group - this experimental group only sees the new design\n",
    "\n",
    "* Dependent variable: conversion rate\n",
    "  * 0 - The user did not buy the product during this user session\n",
    "  * 1 - The user bought the product during this user session\n",
    "\n",
    "#### Choose Sample Size <a name=\"sample_size_AB\"></a>\n",
    "\n",
    "The sample size we need is estimated through something called Power analysis, and it depends on a few factors:\n",
    "\n",
    "* Power of the test (1 — β) — This represents the probability of finding a statistical difference between the groups in our test when a difference is actually present. This is usually set at 0.8 by convention, which means we have about 80% chance to detect it as statistically significant in our test with the sample size we calculate.\n",
    "* Alpha value (α) — The critical value we set earlier to 0.05\n",
    "* Effect size — How big of a difference we expect there to be between the conversion rates\n",
    "Since the target difference is a difference of 2%, we can use 13% and 15% to calculate the effect size we expect."
   ]
  },
  {
   "cell_type": "code",
   "execution_count": 3,
   "id": "d7e78452-bf97-4e98-aa33-9d4b01a18823",
   "metadata": {},
   "outputs": [
    {
     "name": "stdout",
     "output_type": "stream",
     "text": [
      "We need at least \u001b[1;4m4720\u001b[0m observations for each group.\n"
     ]
    }
   ],
   "source": [
    "# Some plot styling preferences\n",
    "plt.style.use('seaborn-whitegrid')\n",
    "font = {'family' : 'Helvetica',\n",
    "        'weight' : 'bold',\n",
    "        'size'   : 14}\n",
    "\n",
    "mpl.rc('font', **font)\n",
    "effect_size = sms.proportion_effectsize(0.13, 0.15)    # Calculating effect size based on our expected rates\n",
    "\n",
    "required_n = sms.NormalIndPower().solve_power(\n",
    "    effect_size, \n",
    "    power=0.8, \n",
    "    alpha=0.05, \n",
    "    ratio=1\n",
    "    )                                                  # Calculating sample size needed\n",
    "\n",
    "required_n = ceil(required_n)                          # Rounding up to next whole number                          \n",
    "\n",
    "print(f'We need at least \\x1B[1;4m{required_n}\\x1B[0m observations for each group.')"
   ]
  },
  {
   "cell_type": "markdown",
   "id": "a6a755f5-de19-4949-ad3c-3ffe08dd42d2",
   "metadata": {
    "tags": []
   },
   "source": [
    "### Exploration (Missing Values, Data Dispersion, Data Types) <a name=\"evaluate_AB\"></a>\n",
    "\n",
    "As shown previously, the test set contains types of attacks which are not in the train set. Every attack has a different kind of signature. The model can learn the signature of a type of an attack and can thus detect it in future. But for those attacks whose signatures are not known might not always be detected by the model. To avoid such an issue, the two sets are combined and then randomly split into train and test set again.\n",
    "\n",
    "The train set will be used to train the model and test set for testing the model on unseen data."
   ]
  },
  {
   "cell_type": "code",
   "execution_count": 4,
   "id": "daf0a8cc-1f63-4393-b925-326f3bd59f57",
   "metadata": {},
   "outputs": [
    {
     "data": {
      "text/plain": [
       "(294478, 5)"
      ]
     },
     "execution_count": 4,
     "metadata": {},
     "output_type": "execute_result"
    }
   ],
   "source": [
    "df.shape"
   ]
  },
  {
   "cell_type": "code",
   "execution_count": 5,
   "id": "bd1d26c9-95a4-449d-ab8c-0336f1732d1c",
   "metadata": {},
   "outputs": [
    {
     "data": {
      "text/plain": [
       "<bound method DataFrame.info of         user_id                   timestamp      group landing_page  converted\n",
       "0        851104  2017-01-21 22:11:48.556739    control     old_page          0\n",
       "1        804228  2017-01-12 08:01:45.159739    control     old_page          0\n",
       "2        661590  2017-01-11 16:55:06.154213  treatment     new_page          0\n",
       "3        853541  2017-01-08 18:28:03.143765  treatment     new_page          0\n",
       "4        864975  2017-01-21 01:52:26.210827    control     old_page          1\n",
       "...         ...                         ...        ...          ...        ...\n",
       "294473   751197  2017-01-03 22:28:38.630509    control     old_page          0\n",
       "294474   945152  2017-01-12 00:51:57.078372    control     old_page          0\n",
       "294475   734608  2017-01-22 11:45:03.439544    control     old_page          0\n",
       "294476   697314  2017-01-15 01:20:28.957438    control     old_page          0\n",
       "294477   715931  2017-01-16 12:40:24.467417  treatment     new_page          0\n",
       "\n",
       "[294478 rows x 5 columns]>"
      ]
     },
     "execution_count": 5,
     "metadata": {},
     "output_type": "execute_result"
    }
   ],
   "source": [
    "df.info"
   ]
  },
  {
   "cell_type": "code",
   "execution_count": 6,
   "id": "0d351154-bafd-4d6c-a66c-a0a0781e8109",
   "metadata": {},
   "outputs": [
    {
     "data": {
      "text/plain": [
       "group      landing_page\n",
       "control    new_page          1928\n",
       "           old_page        145274\n",
       "treatment  new_page        145311\n",
       "           old_page          1965\n",
       "Name: user_id, dtype: int64"
      ]
     },
     "execution_count": 6,
     "metadata": {},
     "output_type": "execute_result"
    }
   ],
   "source": [
    "df.groupby(['group','landing_page'])['user_id'].count()"
   ]
  },
  {
   "cell_type": "code",
   "execution_count": 7,
   "id": "b38c18b1-927d-412f-8c36-8ad44ca55eb2",
   "metadata": {},
   "outputs": [
    {
     "data": {
      "text/html": [
       "<div>\n",
       "<style scoped>\n",
       "    .dataframe tbody tr th:only-of-type {\n",
       "        vertical-align: middle;\n",
       "    }\n",
       "\n",
       "    .dataframe tbody tr th {\n",
       "        vertical-align: top;\n",
       "    }\n",
       "\n",
       "    .dataframe thead th {\n",
       "        text-align: right;\n",
       "    }\n",
       "</style>\n",
       "<table border=\"1\" class=\"dataframe\">\n",
       "  <thead>\n",
       "    <tr style=\"text-align: right;\">\n",
       "      <th>landing_page</th>\n",
       "      <th>new_page</th>\n",
       "      <th>old_page</th>\n",
       "    </tr>\n",
       "    <tr>\n",
       "      <th>group</th>\n",
       "      <th></th>\n",
       "      <th></th>\n",
       "    </tr>\n",
       "  </thead>\n",
       "  <tbody>\n",
       "    <tr>\n",
       "      <th>control</th>\n",
       "      <td>1928</td>\n",
       "      <td>145274</td>\n",
       "    </tr>\n",
       "    <tr>\n",
       "      <th>treatment</th>\n",
       "      <td>145311</td>\n",
       "      <td>1965</td>\n",
       "    </tr>\n",
       "  </tbody>\n",
       "</table>\n",
       "</div>"
      ],
      "text/plain": [
       "landing_page  new_page  old_page\n",
       "group                           \n",
       "control           1928    145274\n",
       "treatment       145311      1965"
      ]
     },
     "execution_count": 7,
     "metadata": {},
     "output_type": "execute_result"
    }
   ],
   "source": [
    "pd.crosstab(df['group'], df['landing_page']) # crosstab has better visual for table compared to groupby"
   ]
  },
  {
   "cell_type": "markdown",
   "id": "4a6b74e4-0134-4ada-b1c1-3d8c912ce87a",
   "metadata": {},
   "source": [
    "Check to see if there are any duplicate user_ids"
   ]
  },
  {
   "cell_type": "code",
   "execution_count": 8,
   "id": "fbde15ea-5e73-4dab-b0d1-00f9a0eeb0d9",
   "metadata": {},
   "outputs": [
    {
     "name": "stdout",
     "output_type": "stream",
     "text": [
      "There are \u001b[1;4m3894\u001b[0m users that appear multiple times in the dataset\n"
     ]
    }
   ],
   "source": [
    "session_counts = df['user_id'].value_counts(ascending=False)\n",
    "multi_users = session_counts[session_counts > 1].count()\n",
    "\n",
    "print(f'There are \\x1B[1;4m{multi_users}\\x1B[0m users that appear multiple times in the dataset')"
   ]
  },
  {
   "cell_type": "markdown",
   "id": "c8eed76a-faf0-4f76-87cf-09f949e5d960",
   "metadata": {},
   "source": [
    "Since this is not a material amount, we'll remove these duplicate records"
   ]
  },
  {
   "cell_type": "code",
   "execution_count": 9,
   "id": "09604905-6f61-44df-ad76-8f911fde6462",
   "metadata": {},
   "outputs": [
    {
     "name": "stdout",
     "output_type": "stream",
     "text": [
      "The updated dataset now has \u001b[1;4m286690\u001b[0m entries\n"
     ]
    }
   ],
   "source": [
    "users_to_drop = session_counts[session_counts > 1].index\n",
    "\n",
    "df_uni = df[~df['user_id'].isin(users_to_drop)]\n",
    "print(f'The updated dataset now has \\x1B[1;4m{df_uni.shape[0]}\\x1B[0m entries')"
   ]
  },
  {
   "cell_type": "code",
   "execution_count": 10,
   "id": "029a12d4-5f98-49e1-b113-1189c94a2ca1",
   "metadata": {},
   "outputs": [
    {
     "name": "stdout",
     "output_type": "stream",
     "text": [
      "Now let's take a random sample using our min sample size found above (4720). \n",
      "Again, we're only taking the sample since this is not a live experiment\n"
     ]
    }
   ],
   "source": [
    "print(f\"Now let's take a random sample using our min sample size found above ({required_n}). \\nAgain, we're only taking the sample since this is not a live experiment\")"
   ]
  },
  {
   "cell_type": "code",
   "execution_count": 11,
   "id": "5a2c3363-9081-4db5-8f45-e2da8909345e",
   "metadata": {},
   "outputs": [
    {
     "data": {
      "text/html": [
       "<div>\n",
       "<style scoped>\n",
       "    .dataframe tbody tr th:only-of-type {\n",
       "        vertical-align: middle;\n",
       "    }\n",
       "\n",
       "    .dataframe tbody tr th {\n",
       "        vertical-align: top;\n",
       "    }\n",
       "\n",
       "    .dataframe thead th {\n",
       "        text-align: right;\n",
       "    }\n",
       "</style>\n",
       "<table border=\"1\" class=\"dataframe\">\n",
       "  <thead>\n",
       "    <tr style=\"text-align: right;\">\n",
       "      <th></th>\n",
       "      <th>user_id</th>\n",
       "      <th>timestamp</th>\n",
       "      <th>group</th>\n",
       "      <th>landing_page</th>\n",
       "      <th>converted</th>\n",
       "    </tr>\n",
       "  </thead>\n",
       "  <tbody>\n",
       "    <tr>\n",
       "      <th>0</th>\n",
       "      <td>763854</td>\n",
       "      <td>2017-01-21 03:43:17.188315</td>\n",
       "      <td>control</td>\n",
       "      <td>old_page</td>\n",
       "      <td>0</td>\n",
       "    </tr>\n",
       "    <tr>\n",
       "      <th>1</th>\n",
       "      <td>690555</td>\n",
       "      <td>2017-01-18 06:38:13.079449</td>\n",
       "      <td>control</td>\n",
       "      <td>old_page</td>\n",
       "      <td>0</td>\n",
       "    </tr>\n",
       "    <tr>\n",
       "      <th>2</th>\n",
       "      <td>861520</td>\n",
       "      <td>2017-01-06 21:13:40.044766</td>\n",
       "      <td>control</td>\n",
       "      <td>old_page</td>\n",
       "      <td>0</td>\n",
       "    </tr>\n",
       "    <tr>\n",
       "      <th>3</th>\n",
       "      <td>630778</td>\n",
       "      <td>2017-01-05 16:42:36.995204</td>\n",
       "      <td>control</td>\n",
       "      <td>old_page</td>\n",
       "      <td>0</td>\n",
       "    </tr>\n",
       "    <tr>\n",
       "      <th>4</th>\n",
       "      <td>656634</td>\n",
       "      <td>2017-01-04 15:31:21.676130</td>\n",
       "      <td>control</td>\n",
       "      <td>old_page</td>\n",
       "      <td>0</td>\n",
       "    </tr>\n",
       "    <tr>\n",
       "      <th>...</th>\n",
       "      <td>...</td>\n",
       "      <td>...</td>\n",
       "      <td>...</td>\n",
       "      <td>...</td>\n",
       "      <td>...</td>\n",
       "    </tr>\n",
       "    <tr>\n",
       "      <th>9435</th>\n",
       "      <td>908512</td>\n",
       "      <td>2017-01-14 22:02:29.922674</td>\n",
       "      <td>treatment</td>\n",
       "      <td>new_page</td>\n",
       "      <td>0</td>\n",
       "    </tr>\n",
       "    <tr>\n",
       "      <th>9436</th>\n",
       "      <td>873211</td>\n",
       "      <td>2017-01-05 00:57:16.167151</td>\n",
       "      <td>treatment</td>\n",
       "      <td>new_page</td>\n",
       "      <td>0</td>\n",
       "    </tr>\n",
       "    <tr>\n",
       "      <th>9437</th>\n",
       "      <td>631276</td>\n",
       "      <td>2017-01-20 18:56:58.167809</td>\n",
       "      <td>treatment</td>\n",
       "      <td>new_page</td>\n",
       "      <td>0</td>\n",
       "    </tr>\n",
       "    <tr>\n",
       "      <th>9438</th>\n",
       "      <td>662301</td>\n",
       "      <td>2017-01-03 08:10:57.768806</td>\n",
       "      <td>treatment</td>\n",
       "      <td>new_page</td>\n",
       "      <td>0</td>\n",
       "    </tr>\n",
       "    <tr>\n",
       "      <th>9439</th>\n",
       "      <td>944623</td>\n",
       "      <td>2017-01-19 10:56:01.648653</td>\n",
       "      <td>treatment</td>\n",
       "      <td>new_page</td>\n",
       "      <td>1</td>\n",
       "    </tr>\n",
       "  </tbody>\n",
       "</table>\n",
       "<p>9440 rows × 5 columns</p>\n",
       "</div>"
      ],
      "text/plain": [
       "      user_id                   timestamp      group landing_page  converted\n",
       "0      763854  2017-01-21 03:43:17.188315    control     old_page          0\n",
       "1      690555  2017-01-18 06:38:13.079449    control     old_page          0\n",
       "2      861520  2017-01-06 21:13:40.044766    control     old_page          0\n",
       "3      630778  2017-01-05 16:42:36.995204    control     old_page          0\n",
       "4      656634  2017-01-04 15:31:21.676130    control     old_page          0\n",
       "...       ...                         ...        ...          ...        ...\n",
       "9435   908512  2017-01-14 22:02:29.922674  treatment     new_page          0\n",
       "9436   873211  2017-01-05 00:57:16.167151  treatment     new_page          0\n",
       "9437   631276  2017-01-20 18:56:58.167809  treatment     new_page          0\n",
       "9438   662301  2017-01-03 08:10:57.768806  treatment     new_page          0\n",
       "9439   944623  2017-01-19 10:56:01.648653  treatment     new_page          1\n",
       "\n",
       "[9440 rows x 5 columns]"
      ]
     },
     "execution_count": 11,
     "metadata": {},
     "output_type": "execute_result"
    }
   ],
   "source": [
    "control_sample = df_uni[df_uni['group'] == 'control'].sample(n=required_n, random_state=22)\n",
    "treatment_sample = df_uni[df_uni['group'] == 'treatment'].sample(n=required_n, random_state=22)\n",
    "\n",
    "ab_test = pd.concat([control_sample, treatment_sample], axis=0)\n",
    "ab_test.reset_index(drop=True, inplace=True)\n",
    "ab_test"
   ]
  },
  {
   "cell_type": "code",
   "execution_count": 12,
   "id": "01739cf5-ffc9-4cfc-bb3c-9731c384bae6",
   "metadata": {},
   "outputs": [
    {
     "name": "stdout",
     "output_type": "stream",
     "text": [
      "<class 'pandas.core.frame.DataFrame'>\n",
      "RangeIndex: 9440 entries, 0 to 9439\n",
      "Data columns (total 5 columns):\n",
      " #   Column        Non-Null Count  Dtype \n",
      "---  ------        --------------  ----- \n",
      " 0   user_id       9440 non-null   int64 \n",
      " 1   timestamp     9440 non-null   object\n",
      " 2   group         9440 non-null   object\n",
      " 3   landing_page  9440 non-null   object\n",
      " 4   converted     9440 non-null   int64 \n",
      "dtypes: int64(2), object(3)\n",
      "memory usage: 368.9+ KB\n"
     ]
    }
   ],
   "source": [
    "ab_test.info()"
   ]
  },
  {
   "cell_type": "code",
   "execution_count": 13,
   "id": "52b50337-f049-4346-ad7d-70368eb5abc8",
   "metadata": {},
   "outputs": [
    {
     "data": {
      "text/plain": [
       "control      4720\n",
       "treatment    4720\n",
       "Name: group, dtype: int64"
      ]
     },
     "execution_count": 13,
     "metadata": {},
     "output_type": "execute_result"
    }
   ],
   "source": [
    "ab_test['group'].value_counts()"
   ]
  },
  {
   "cell_type": "code",
   "execution_count": 19,
   "id": "6ab63741-d31f-4ea0-b33e-d46210495633",
   "metadata": {},
   "outputs": [
    {
     "data": {
      "text/plain": [
       "group\n",
       "control      0.123305\n",
       "treatment    0.125636\n",
       "Name: converted, dtype: float64"
      ]
     },
     "execution_count": 19,
     "metadata": {},
     "output_type": "execute_result"
    }
   ],
   "source": [
    "ab_test.groupby('group')['converted'].mean()"
   ]
  },
  {
   "cell_type": "markdown",
   "id": "9723c463-0389-43cc-b2d7-78fcd1a5a6e5",
   "metadata": {},
   "source": [
    "This confirms that our sample matches the min size for each."
   ]
  },
  {
   "cell_type": "markdown",
   "id": "b717ca4d-5dc8-4369-8b5a-8b1b25ccb95d",
   "metadata": {},
   "source": [
    "### Visualizations <a name=\"visual_barh_AB\"></a>"
   ]
  },
  {
   "cell_type": "code",
   "execution_count": 14,
   "id": "e191197f-3440-456e-b96a-68d48a775ceb",
   "metadata": {},
   "outputs": [
    {
     "data": {
      "text/html": [
       "<style  type=\"text/css\" >\n",
       "</style><table id=\"T_8586a_\" ><thead>    <tr>        <th class=\"blank level0\" ></th>        <th class=\"col_heading level0 col0\" >conversion_rate</th>        <th class=\"col_heading level0 col1\" >std_deviation</th>        <th class=\"col_heading level0 col2\" >std_error</th>    </tr>    <tr>        <th class=\"index_name level0\" >group</th>        <th class=\"blank\" ></th>        <th class=\"blank\" ></th>        <th class=\"blank\" ></th>    </tr></thead><tbody>\n",
       "                <tr>\n",
       "                        <th id=\"T_8586a_level0_row0\" class=\"row_heading level0 row0\" >control</th>\n",
       "                        <td id=\"T_8586a_row0_col0\" class=\"data row0 col0\" >0.123</td>\n",
       "                        <td id=\"T_8586a_row0_col1\" class=\"data row0 col1\" >0.329</td>\n",
       "                        <td id=\"T_8586a_row0_col2\" class=\"data row0 col2\" >0.005</td>\n",
       "            </tr>\n",
       "            <tr>\n",
       "                        <th id=\"T_8586a_level0_row1\" class=\"row_heading level0 row1\" >treatment</th>\n",
       "                        <td id=\"T_8586a_row1_col0\" class=\"data row1 col0\" >0.126</td>\n",
       "                        <td id=\"T_8586a_row1_col1\" class=\"data row1 col1\" >0.331</td>\n",
       "                        <td id=\"T_8586a_row1_col2\" class=\"data row1 col2\" >0.005</td>\n",
       "            </tr>\n",
       "    </tbody></table>"
      ],
      "text/plain": [
       "<pandas.io.formats.style.Styler at 0x17eede26ee0>"
      ]
     },
     "execution_count": 14,
     "metadata": {},
     "output_type": "execute_result"
    }
   ],
   "source": [
    "conversion_rates = ab_test.groupby('group')['converted']\n",
    "\n",
    "std_p = lambda x: np.std(x, ddof=0)              # Std. deviation of the proportion\n",
    "se_p = lambda x: stats.sem(x, ddof=0)            # Std. error of the proportion (std / sqrt(n))\n",
    "\n",
    "conversion_rates = conversion_rates.agg([np.mean, std_p, se_p])\n",
    "conversion_rates.columns = ['conversion_rate', 'std_deviation', 'std_error']\n",
    "\n",
    "\n",
    "conversion_rates.style.format('{:.3f}')"
   ]
  },
  {
   "cell_type": "code",
   "execution_count": 15,
   "id": "9683ae63-da4d-4fff-a628-729ffa738aec",
   "metadata": {},
   "outputs": [
    {
     "data": {
      "text/plain": [
       "Text(0, 0.5, 'Converted (Proportion)')"
      ]
     },
     "execution_count": 15,
     "metadata": {},
     "output_type": "execute_result"
    },
    {
     "name": "stderr",
     "output_type": "stream",
     "text": [
      "findfont: Font family ['Helvetica'] not found. Falling back to DejaVu Sans.\n",
      "findfont: Font family ['Helvetica'] not found. Falling back to DejaVu Sans.\n",
      "findfont: Font family ['Helvetica'] not found. Falling back to DejaVu Sans.\n"
     ]
    },
    {
     "data": {
      "image/png": "[encoded data removed]",
      "text/plain": [
       "<Figure size 576x432 with 1 Axes>"
      ]
     },
     "metadata": {},
     "output_type": "display_data"
    }
   ],
   "source": [
    "plt.figure(figsize=(8,6))\n",
    "\n",
    "sns.barplot(x=ab_test['group'], y=ab_test['converted'], ci=False)\n",
    "\n",
    "plt.ylim(0, 0.17)\n",
    "plt.title('Conversion Rate by Group', pad=20)\n",
    "plt.xlabel('Group', labelpad=15)\n",
    "plt.ylabel('Converted (Proportion)', labelpad=15)"
   ]
  },
  {
   "cell_type": "markdown",
   "id": "c1abd5ae-ebde-4aa8-8ec8-ef698355e989",
   "metadata": {},
   "source": [
    "At first glance, it looks like the results are the same between the control and treatment groups.\n",
    "<br/>Now let's see if the difference is statistically significant!"
   ]
  },
  {
   "cell_type": "markdown",
   "id": "c94571c5-f27c-45ba-9af2-cdf758b391e8",
   "metadata": {},
   "source": [
    "### Hypothesis Testing <a name=\"hyp_testing_AB\"></a>"
   ]
  },
  {
   "cell_type": "markdown",
   "id": "306c1461-bdf9-4832-b484-0974146f1dcf",
   "metadata": {},
   "source": [
    "Now comes the moment of truth. Hypothesis testing will show confirm whether the new design had a meaningful impact. Since our sample size is large enough, we can use normal approximation for calculating our p-value (z-test). "
   ]
  },
  {
   "cell_type": "code",
   "execution_count": 20,
   "id": "8e825c2a-37b4-4e40-90fe-5f177fb7655d",
   "metadata": {},
   "outputs": [
    {
     "name": "stdout",
     "output_type": "stream",
     "text": [
      "z statistic: -0.34\n",
      "p-value: 0.732\n",
      "ci 95% for control group: [0.114, 0.133]\n",
      "ci 95% for treatment group: [0.116, 0.135]\n"
     ]
    }
   ],
   "source": [
    "from statsmodels.stats.proportion import proportions_ztest, proportion_confint\n",
    "control_results = ab_test[ab_test['group'] == 'control']['converted']\n",
    "treatment_results = ab_test[ab_test['group'] == 'treatment']['converted']\n",
    "n_con = control_results.count()\n",
    "n_treat = treatment_results.count()\n",
    "successes = [control_results.sum(), treatment_results.sum()]\n",
    "nobs = [n_con, n_treat]\n",
    "\n",
    "z_stat, pval = proportions_ztest(successes, nobs=nobs)\n",
    "(lower_con, lower_treat), (upper_con, upper_treat) = proportion_confint(successes, nobs=nobs, alpha=0.05)\n",
    "\n",
    "print(f'z statistic: {z_stat:.2f}')\n",
    "print(f'p-value: {pval:.3f}')\n",
    "print(f'ci 95% for control group: [{lower_con:.3f}, {upper_con:.3f}]')\n",
    "print(f'ci 95% for treatment group: [{lower_treat:.3f}, {upper_treat:.3f}]')"
   ]
  },
  {
   "cell_type": "code",
   "execution_count": 29,
   "id": "32b17dc1-c1bf-4cf4-bb2f-480daaa8cd38",
   "metadata": {},
   "outputs": [],
   "source": [
    "# control_results.sum() #582\n",
    "# treatment_results.count() #4720\n",
    "# n_con, n_treat #4720, 4720"
   ]
  },
  {
   "cell_type": "code",
   "execution_count": null,
   "id": "44c393a6-9b62-40fd-9f7d-abd4b54f7120",
   "metadata": {},
   "outputs": [],
   "source": []
  },
  {
   "cell_type": "code",
   "execution_count": 69,
   "id": "f6bd6d25-cca8-4cd3-a475-f28ef27a0dc4",
   "metadata": {},
   "outputs": [],
   "source": [
    "# data_barh_attacks = combined_data.sort_values(by='attack_type', ascending=False) #, inplace=True)\n",
    "data_barh_attacks = combined_data['attack_type'].value_counts() #sort_values(by='attack_type', ascending=False) #, inplace=True)"
   ]
  },
  {
   "cell_type": "code",
   "execution_count": 70,
   "id": "88b310e9-ca12-4114-9015-508f8f74180b",
   "metadata": {},
   "outputs": [],
   "source": [
    "# combined_data.groupby('attack_type').agg(\n",
    "#             attack_mean = ('attack_type', 'mean'),\n",
    "#             attack_count = ('attack_type', 'count'))"
   ]
  },
  {
   "cell_type": "markdown",
   "id": "b8a010bc-8516-4e99-ac40-cd8c563dd031",
   "metadata": {},
   "source": [
    "## Conclusion <a name=\"conclusion_AB\"></a>"
   ]
  },
  {
   "cell_type": "code",
   "execution_count": 32,
   "id": "4aca991c-26df-4bf5-a78c-f0649618126f",
   "metadata": {},
   "outputs": [
    {
     "name": "stdout",
     "output_type": "stream",
     "text": [
      "Since p-value=0.732 is much greater than our threshold of α=0.05, \n",
      "we cannot reject the Null hypothesis, Hₒ.\n"
     ]
    }
   ],
   "source": [
    "print(f'Since p-value={pval:.3f} is much greater than our threshold of α=0.05, \\nwe cannot reject the Null hypothesis, Hₒ.')"
   ]
  },
  {
   "cell_type": "markdown",
   "id": "39e863e6-3b00-49af-8168-5ea650a24246",
   "metadata": {},
   "source": [
    "That means that the new design did not perform siginificantly different. I guess we'll have to give the design another look. The silver lining is that the confidence interval of the treatment group was in line with the 13% conversion rate that we started with (so it wasn't necessarily worse).  So, the conversion rate of the new design is similar to the old design."
   ]
  },
  {
   "cell_type": "code",
   "execution_count": null,
   "id": "2019d384-5a30-4851-9936-8b10165cf7c3",
   "metadata": {},
   "outputs": [],
   "source": []
  }
 ],
 "metadata": {
  "kernelspec": {
   "display_name": "Python 3 (ipykernel)",
   "language": "python",
   "name": "python3"
  },
  "language_info": {
   "codemirror_mode": {
    "name": "ipython",
    "version": 3
   },
   "file_extension": ".py",
   "mimetype": "text/x-python",
   "name": "python",
   "nbconvert_exporter": "python",
   "pygments_lexer": "ipython3",
   "version": "3.8.5"
  },
  "toc-showcode": true
 },
 "nbformat": 4,
 "nbformat_minor": 5
}
